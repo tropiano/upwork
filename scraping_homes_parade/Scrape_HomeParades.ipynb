{
 "cells": [
  {
   "cell_type": "code",
   "execution_count": 12,
   "metadata": {},
   "outputs": [],
   "source": [
    "from webdriver_manager.chrome import ChromeDriverManager\n",
    "from selenium.webdriver.chrome.service import Service as ChromeService\n",
    "import requests as r\n",
    "from bs4 import BeautifulSoup\n",
    "import time\n",
    "from selenium import webdriver\n",
    "from selenium.webdriver.common.by import By"
   ]
  },
  {
   "cell_type": "code",
   "execution_count": 40,
   "metadata": {
    "scrolled": true
   },
   "outputs": [
    {
     "name": "stdout",
     "output_type": "stream",
     "text": [
      "Found 340 elements\n",
      "SAB Construction, LLC\n",
      "10300 N Oakland Ave, Kansas City MO, 64157\n",
      "Contact\n",
      "Raelynn King-Barnhart\n"
     ]
    }
   ],
   "source": [
    "base_url = \"https://kc.paradeofhomes.io/\"\n",
    "\n",
    "service = ChromeService(executable_path=ChromeDriverManager().install())\n",
    "driver = webdriver.Chrome(service=service)\n",
    "\n",
    "#implicit wait\n",
    "driver.implicitly_wait(0.5)\n",
    "#launch URL\n",
    "driver.get(base_url)\n",
    "\n",
    "#click on continue button\n",
    "el = driver.find_element(By.XPATH, \"//div[@class='MuiDialogActions-root MuiDialogActions-spacing css-14b29qc']/button\")\n",
    "el.click()\n",
    "\n",
    "# click on the first listing\n",
    "el = driver.find_elements(By.XPATH,\"//div[@class='w-full sm:w-1/2 lg:w-1/4 flex flex-col mb-2 cursor-pointer']\")\n",
    "print(f\"Found {len(el)} elements\")\n",
    "el[0].click()\n",
    "\n",
    "# find company name\n",
    "el = driver.find_element(By.XPATH,\"//div[@class='flex flex-row flex-grow text-gray-700 text-2xl justify-center border-t p-2']\")\n",
    "print(el.text)\n",
    "\n",
    "# find address\n",
    "el = driver.find_element(By.XPATH,\"//a[@class='text-sm text-blue-500']\")\n",
    "print(el.text)\n",
    "\n",
    "# find contact info\n",
    "el = driver.find_elements(By.XPATH,\"//div[@class='flex flex-row']\")\n",
    "print(el[2].text)\n",
    "\n",
    "\n",
    "# close listing\n",
    "el = driver.find_element(By.XPATH,\"//div[@class='bg-black text-white pr-4 pl-2 py-2 font-bold opacity-75 flex items-center cursor-pointer']\")\n",
    "el.click()\n",
    "\n",
    "# close the driver\n",
    "driver.quit()\n"
   ]
  },
  {
   "cell_type": "code",
   "execution_count": 38,
   "metadata": {},
   "outputs": [
    {
     "data": {
      "text/plain": [
       "441"
      ]
     },
     "execution_count": 38,
     "metadata": {},
     "output_type": "execute_result"
    }
   ],
   "source": [
    "l = driver.find_element(By.XPATH, \"py-2 flex flex-wrap\")\n",
    "\n",
    "\n",
    "\n",
    "\n",
    "\n",
    "\n",
    "address_list = []\n",
    "\n",
    "for link in letter_links:\n",
    "    resp = r.get(f\"{letter_url}{link}\")\n",
    "    soup = BeautifulSoup(resp.content, 'html.parser')\n",
    "\n",
    "    table = soup.find(\"table\", class_='c-addresses__table')\n",
    "    t_rows = table.find_all('tr')\n",
    "\n",
    "    for row in t_rows:\n",
    "        row_el = row.find('td', class_='c-addresses__tableitem--equal')\n",
    "        if row_el:\n",
    "            time.sleep(1)\n",
    "            print(\"slept a bit\")\n",
    "            url_address = row_el.find('a')[\"href\"]\n",
    "            city = row_el.find('a').string\n",
    "            info_address = dict()\n",
    "            resp = r.get(f\"{base_url}{url_address}\")\n",
    "            soup = BeautifulSoup(resp.content, 'html.parser')\n",
    "            info_list = soup.find(\"ul\", class_='c-addresses--general').find_all('li')\n",
    "            info_all = []\n",
    "            for i, info in enumerate(info_list):\n",
    "                info_el = \"\"\n",
    "                for el in info.find_all('span'):\n",
    "                    if el.has_attr(\"itemprop\"):\n",
    "                        info_address[el['itemprop']] = el.string\n",
    "        else: \n",
    "            continue\n",
    "        address_list.append(info_address)"
   ]
  },
  {
   "cell_type": "code",
   "execution_count": 39,
   "metadata": {},
   "outputs": [],
   "source": [
    "import pandas as pd"
   ]
  },
  {
   "cell_type": "code",
   "execution_count": 41,
   "metadata": {},
   "outputs": [],
   "source": [
    "df = pd.DataFrame(address_list)"
   ]
  },
  {
   "cell_type": "code",
   "execution_count": 42,
   "metadata": {},
   "outputs": [],
   "source": [
    "df.to_csv(\"Kreiver.csv\")"
   ]
  }
 ],
 "metadata": {
  "kernelspec": {
   "display_name": "Python 3",
   "language": "python",
   "name": "python3"
  },
  "language_info": {
   "codemirror_mode": {
    "name": "ipython",
    "version": 3
   },
   "file_extension": ".py",
   "mimetype": "text/x-python",
   "name": "python",
   "nbconvert_exporter": "python",
   "pygments_lexer": "ipython3",
   "version": "3.7.6"
  }
 },
 "nbformat": 4,
 "nbformat_minor": 4
}
