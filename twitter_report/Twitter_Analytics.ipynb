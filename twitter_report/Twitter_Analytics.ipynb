{
 "cells": [
  {
   "cell_type": "code",
   "execution_count": 124,
   "metadata": {},
   "outputs": [],
   "source": [
    "import requests \n",
    "import tweepy\n",
    "import json\n",
    "import datetime\n",
    "import pandas as pd\n",
    "import sqlite3"
   ]
  },
  {
   "cell_type": "code",
   "execution_count": 87,
   "metadata": {},
   "outputs": [],
   "source": [
    "with open('credentials.json', 'r') as fp:\n",
    "    api_cred = json.load(fp)\n",
    "    \n",
    "CONSUMER_KEY = api_cred[\"CONSUMER_KEY\"]\n",
    "CONSUMER_SECRET = api_cred[\"CONSUMER_SECRET\"]\n",
    "OAUTH_TOKEN = api_cred[\"OAUTH_TOKEN\"]\n",
    "OAUTH_TOKEN_SECRET = api_cred[\"OAUTH_SECRET\"]\n",
    "BEARER_TOKEN = api_cred[\"BEARER_TOKEN\"]"
   ]
  },
  {
   "cell_type": "code",
   "execution_count": 88,
   "metadata": {},
   "outputs": [],
   "source": [
    "auth = tweepy.OAuthHandler(CONSUMER_KEY, CONSUMER_SECRET)\n",
    "auth.set_access_token(OAUTH_TOKEN, OAUTH_TOKEN_SECRET)\n",
    "client = tweepy.Client(bearer_token=BEARER_TOKEN)"
   ]
  },
  {
   "cell_type": "code",
   "execution_count": 110,
   "metadata": {},
   "outputs": [
    {
     "name": "stdout",
     "output_type": "stream",
     "text": [
      "2022-09-18T00:00:00Z\n",
      "2022-09-17T00:00:00Z\n"
     ]
    }
   ],
   "source": [
    "now = f\"{datetime.datetime.today().strftime('%Y-%m-%d')}T00:00:00Z\"\n",
    "print(now)\n",
    "\n",
    "yesterday = f\"{((datetime.datetime.today() - datetime.timedelta(1)).strftime('%Y-%m-%d'))}T00:00:00Z\"\n",
    "print(yesterday)"
   ]
  },
  {
   "cell_type": "code",
   "execution_count": 123,
   "metadata": {},
   "outputs": [],
   "source": [
    "# Everything in the last 24 hours\n",
    "# amount of tweets DONE \n",
    "# retweets received DONE\n",
    "# likes received DONE\n",
    "# comments received DONE\n",
    "# followers gained DONE\n",
    "# engagement rate CANNOT BE DONE (NEED ENGAGEMENT API WHICH IS NOT FREE)\n",
    "\n",
    "def get_user_data(user_name='Renate_KE'):\n",
    "    user_data = {}\n",
    "    user = client.get_user(username=user_name, user_fields='public_metrics')\n",
    "    user_id = user.data.id\n",
    "\n",
    "    today = f\"{datetime.datetime.today().strftime('%Y-%m-%d')}T00:00:00Z\"\n",
    "    yesterday = f\"{((datetime.datetime.today() - datetime.timedelta(1)).strftime('%Y-%m-%d'))}T00:00:00Z\"\n",
    "\n",
    "    tweets = client.get_users_tweets(id=user_id, exclude=\"retweets\", start_time=yesterday, end_time=today, \n",
    "                                     tweet_fields=['public_metrics','author_id','conversation_id'], \n",
    "                                     max_results=100)\n",
    "\n",
    "    followers = user.data['public_metrics']['followers_count']\n",
    "    retweets = 0\n",
    "    likes = 0\n",
    "    replies = 0\n",
    "    for t in tweets.data:\n",
    "        retweets += t.data[\"public_metrics\"][\"retweet_count\"]\n",
    "        likes += t.data[\"public_metrics\"][\"like_count\"]\n",
    "        replies += t.data[\"public_metrics\"][\"reply_count\"]\n",
    "        print(t.data[\"public_metrics\"])\n",
    "\n",
    "    user_data[\"tweets\"] = len(tweets.data)\n",
    "    user_data[\"retweets\"] = retweets\n",
    "    user_data[\"likes\"] = likes\n",
    "    user_data[\"replies\"] = replies\n",
    "    user_data[\"followers\"] = followers\n",
    "    user_data[\"time\"] = today\n",
    "    user_data[\"name\"] = user_name\n",
    "    \n",
    "    return user_data"
   ]
  },
  {
   "cell_type": "code",
   "execution_count": null,
   "metadata": {},
   "outputs": [],
   "source": [
    "# insert data in a Dataframe \n",
    "# Later maybe create an SQLite DB and insert data\n",
    "user_names = ['bordoni_russia', 'Linn_FPL', 'pap1pap', 'amrith']\n",
    "for user in user_names:\n",
    "    user_data_all.append(get_user_data(user))\n",
    "\n",
    "pd.DataFrame(user_data_all)"
   ]
  },
  {
   "cell_type": "code",
   "execution_count": 122,
   "metadata": {},
   "outputs": [
    {
     "data": {
      "text/html": [
       "<div>\n",
       "<style scoped>\n",
       "    .dataframe tbody tr th:only-of-type {\n",
       "        vertical-align: middle;\n",
       "    }\n",
       "\n",
       "    .dataframe tbody tr th {\n",
       "        vertical-align: top;\n",
       "    }\n",
       "\n",
       "    .dataframe thead th {\n",
       "        text-align: right;\n",
       "    }\n",
       "</style>\n",
       "<table border=\"1\" class=\"dataframe\">\n",
       "  <thead>\n",
       "    <tr style=\"text-align: right;\">\n",
       "      <th></th>\n",
       "      <th>tweets</th>\n",
       "      <th>retweets</th>\n",
       "      <th>likes</th>\n",
       "      <th>replies</th>\n",
       "      <th>followers</th>\n",
       "      <th>time</th>\n",
       "      <th>name</th>\n",
       "    </tr>\n",
       "  </thead>\n",
       "  <tbody>\n",
       "    <tr>\n",
       "      <th>0</th>\n",
       "      <td>33</td>\n",
       "      <td>4</td>\n",
       "      <td>67</td>\n",
       "      <td>29</td>\n",
       "      <td>240</td>\n",
       "      <td>2022-09-18T00:00:00Z</td>\n",
       "      <td>Renate_KE</td>\n",
       "    </tr>\n",
       "  </tbody>\n",
       "</table>\n",
       "</div>"
      ],
      "text/plain": [
       "   tweets  retweets  likes  replies  followers                  time  \\\n",
       "0      33         4     67       29        240  2022-09-18T00:00:00Z   \n",
       "\n",
       "        name  \n",
       "0  Renate_KE  "
      ]
     },
     "execution_count": 122,
     "metadata": {},
     "output_type": "execute_result"
    }
   ],
   "source": []
  }
 ],
 "metadata": {
  "kernelspec": {
   "display_name": "Python 3",
   "language": "python",
   "name": "python3"
  },
  "language_info": {
   "codemirror_mode": {
    "name": "ipython",
    "version": 3
   },
   "file_extension": ".py",
   "mimetype": "text/x-python",
   "name": "python",
   "nbconvert_exporter": "python",
   "pygments_lexer": "ipython3",
   "version": "3.7.6"
  }
 },
 "nbformat": 4,
 "nbformat_minor": 2
}
