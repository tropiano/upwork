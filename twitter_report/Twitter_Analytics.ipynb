{
 "cells": [
  {
   "cell_type": "code",
   "execution_count": 39,
   "metadata": {},
   "outputs": [],
   "source": [
    "import requests \n",
    "import tweepy\n",
    "import json\n",
    "import datetime"
   ]
  },
  {
   "cell_type": "code",
   "execution_count": 8,
   "metadata": {},
   "outputs": [],
   "source": [
    "with open('credentials.json', 'r') as fp:\n",
    "    api_cred = json.load(fp)\n",
    "    \n",
    "CONSUMER_KEY = api_cred[\"CONSUMER_KEY\"]\n",
    "CONSUMER_SECRET = api_cred[\"CONSUMER_SECRET\"]\n",
    "OAUTH_TOKEN = api_cred[\"OAUTH_TOKEN\"]\n",
    "OAUTH_TOKEN_SECRET = api_cred[\"OAUTH_SECRET\"]\n",
    "BEARER_TOKEN = api_cred[\"BEARER_TOKEN\"]"
   ]
  },
  {
   "cell_type": "code",
   "execution_count": 9,
   "metadata": {},
   "outputs": [],
   "source": [
    "auth = tweepy.OAuthHandler(CONSUMER_KEY, CONSUMER_SECRET)\n",
    "auth.set_access_token(OAUTH_TOKEN, OAUTH_TOKEN_SECRET)\n",
    "client = tweepy.Client(bearer_token=BEARER_TOKEN)"
   ]
  },
  {
   "cell_type": "code",
   "execution_count": 76,
   "metadata": {},
   "outputs": [
    {
     "name": "stdout",
     "output_type": "stream",
     "text": [
      "{'retweet_count': 0, 'reply_count': 1, 'like_count': 1, 'quote_count': 0}\n",
      "{'retweet_count': 0, 'reply_count': 0, 'like_count': 0, 'quote_count': 0}\n",
      "{'retweet_count': 0, 'reply_count': 0, 'like_count': 0, 'quote_count': 0}\n",
      "{'retweet_count': 0, 'reply_count': 1, 'like_count': 1, 'quote_count': 0}\n",
      "{'retweet_count': 0, 'reply_count': 0, 'like_count': 3, 'quote_count': 0}\n",
      "{'retweet_count': 0, 'reply_count': 0, 'like_count': 2, 'quote_count': 0}\n",
      "{'retweet_count': 2, 'reply_count': 25, 'like_count': 31, 'quote_count': 0}\n",
      "{'retweet_count': 0, 'reply_count': 3, 'like_count': 3, 'quote_count': 0}\n",
      "{'retweet_count': 0, 'reply_count': 0, 'like_count': 0, 'quote_count': 0}\n",
      "{'retweet_count': 0, 'reply_count': 0, 'like_count': 4, 'quote_count': 1}\n",
      "{'retweet_count': 0, 'reply_count': 1, 'like_count': 2, 'quote_count': 0}\n",
      "{'retweet_count': 0, 'reply_count': 0, 'like_count': 0, 'quote_count': 0}\n",
      "{'retweet_count': 0, 'reply_count': 0, 'like_count': 0, 'quote_count': 0}\n",
      "{'retweet_count': 0, 'reply_count': 2, 'like_count': 5, 'quote_count': 0}\n",
      "N tweets 14\n",
      "N retweets 2\n",
      "N likes 52\n",
      "N replies 33\n"
     ]
    }
   ],
   "source": [
    "# Everything in the last 24 hours\n",
    "# amount of tweets DONE \n",
    "# retweets received DONE\n",
    "# likes received DONE\n",
    "# comments received DONE\n",
    "# followers gained\n",
    "# engagement rate\n",
    "\n",
    "user_id = client.get_user(username='Renate_KE').data.id\n",
    "tweets = client.get_users_tweets(id=user_id, exclude=\"retweets\", start_time=\"2022-09-16T00:00:00Z\", \n",
    "                                 end_time=\"2022-09-17T00:00:00Z\", \n",
    "                                 tweet_fields=['public_metrics','author_id','conversation_id'], \n",
    "                                 max_results=100)\n",
    "\n",
    "retweets = 0\n",
    "likes = 0\n",
    "replies = 0\n",
    "for t in tweets.data:\n",
    "    retweets += t.data[\"public_metrics\"][\"retweet_count\"]\n",
    "    likes += t.data[\"public_metrics\"][\"like_count\"]\n",
    "    replies += t.data[\"public_metrics\"][\"reply_count\"]\n",
    "    print(t.data[\"public_metrics\"])\n",
    "    \n",
    "print(f\"N tweets {len(tweets.data)}\")\n",
    "print(f\"N retweets {retweets}\")\n",
    "print(f\"N likes {likes}\")\n",
    "print(f\"N replies {replies}\")"
   ]
  },
  {
   "cell_type": "code",
   "execution_count": 73,
   "metadata": {},
   "outputs": [
    {
     "data": {
      "text/plain": [
       "2"
      ]
     },
     "execution_count": 73,
     "metadata": {},
     "output_type": "execute_result"
    }
   ],
   "source": [
    "retweets"
   ]
  },
  {
   "cell_type": "code",
   "execution_count": null,
   "metadata": {},
   "outputs": [],
   "source": []
  }
 ],
 "metadata": {
  "kernelspec": {
   "display_name": "Python 3",
   "language": "python",
   "name": "python3"
  },
  "language_info": {
   "codemirror_mode": {
    "name": "ipython",
    "version": 3
   },
   "file_extension": ".py",
   "mimetype": "text/x-python",
   "name": "python",
   "nbconvert_exporter": "python",
   "pygments_lexer": "ipython3",
   "version": "3.7.6"
  }
 },
 "nbformat": 4,
 "nbformat_minor": 2
}
