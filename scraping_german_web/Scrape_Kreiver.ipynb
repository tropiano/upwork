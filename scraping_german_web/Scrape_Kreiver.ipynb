{
 "cells": [
  {
   "cell_type": "code",
   "execution_count": 15,
   "metadata": {},
   "outputs": [],
   "source": [
    "import requests as r\n",
    "from bs4 import BeautifulSoup\n",
    "import time"
   ]
  },
  {
   "cell_type": "code",
   "execution_count": 37,
   "metadata": {
    "scrolled": true
   },
   "outputs": [
    {
     "name": "stdout",
     "output_type": "stream",
     "text": [
      "slept a bit\n",
      "slept a bit\n",
      "slept a bit\n",
      "slept a bit\n",
      "slept a bit\n",
      "slept a bit\n",
      "slept a bit\n",
      "slept a bit\n",
      "slept a bit\n",
      "slept a bit\n",
      "slept a bit\n",
      "slept a bit\n",
      "slept a bit\n",
      "slept a bit\n",
      "slept a bit\n",
      "slept a bit\n",
      "slept a bit\n",
      "slept a bit\n",
      "slept a bit\n",
      "slept a bit\n",
      "slept a bit\n",
      "slept a bit\n",
      "slept a bit\n",
      "slept a bit\n",
      "slept a bit\n"
     ]
    }
   ],
   "source": [
    "base_url = \"https://www.drk.de/\"\n",
    "letter_url = \"https://www.drk.de/das-drk/adressen/kreisverbaende/\"\n",
    "\n",
    "letter_links = [\n",
    "    \"?tx_drkaddresses_organisationplugin%5Bcontroller%5D=Organisation&tx_drkaddresses_organisationplugin%5Bsection%5D=B&cHash=b91ae4a55363c19f6a31962c3b0f3f57\",\n",
    " \"?tx_drkaddresses_organisationplugin%5Bcontroller%5D=Organisation&tx_drkaddresses_organisationplugin%5Bsection%5D=C&cHash=8bb296e31a1313ebbec9d366a8697484\",\n",
    " \"?tx_drkaddresses_organisationplugin%5Bcontroller%5D=Organisation&tx_drkaddresses_organisationplugin%5Bsection%5D=D&cHash=18ea4857194f10eb8a08d505481a75d4\",\n",
    " \"?tx_drkaddresses_organisationplugin%5Bcontroller%5D=Organisation&tx_drkaddresses_organisationplugin%5Bsection%5D=E&cHash=ee956387ab76668ddecd3991625b03e6\",\n",
    " \"?tx_drkaddresses_organisationplugin%5Bcontroller%5D=Organisation&tx_drkaddresses_organisationplugin%5Bsection%5D=F&cHash=0fc950a61f1dbb2dd30d07e799fe6a90\",\n",
    " \"?tx_drkaddresses_organisationplugin%5Bcontroller%5D=Organisation&tx_drkaddresses_organisationplugin%5Bsection%5D=G&cHash=047ac8589cc258134b7e01ffd2b4b7c6\",\n",
    " \"?tx_drkaddresses_organisationplugin%5Bcontroller%5D=Organisation&tx_drkaddresses_organisationplugin%5Bsection%5D=H&cHash=c79a220c1af21709d1bde33b27c5e5b3\",\n",
    " \"?tx_drkaddresses_organisationplugin%5Bcontroller%5D=Organisation&tx_drkaddresses_organisationplugin%5Bsection%5D=I&cHash=e7962872f2ed15a2cd8cd51d653aacd6\",\n",
    " \"?tx_drkaddresses_organisationplugin%5Bcontroller%5D=Organisation&tx_drkaddresses_organisationplugin%5Bsection%5D=J&cHash=c23d865ce1849e55bf5325266b284f35\",\n",
    " \"?tx_drkaddresses_organisationplugin%5Bcontroller%5D=Organisation&tx_drkaddresses_organisationplugin%5Bsection%5D=K&cHash=7181423cfb990d85663d9c6b42558769\",\n",
    " \"?tx_drkaddresses_organisationplugin%5Bcontroller%5D=Organisation&tx_drkaddresses_organisationplugin%5Bsection%5D=L&cHash=28b949f3f832cb71118678260f3dd82d\",\n",
    " \"?tx_drkaddresses_organisationplugin%5Bcontroller%5D=Organisation&tx_drkaddresses_organisationplugin%5Bsection%5D=M&cHash=7a7a1c37c99e9e59ac816d995a3b617e\",\n",
    " \"?tx_drkaddresses_organisationplugin%5Bcontroller%5D=Organisation&tx_drkaddresses_organisationplugin%5Bsection%5D=N&cHash=caab48be95c8020dae599742e6828f58\",\n",
    " \"?tx_drkaddresses_organisationplugin%5Bcontroller%5D=Organisation&tx_drkaddresses_organisationplugin%5Bsection%5D=O&cHash=0e44efb9ab06ccab6767b21c3140c741\",\n",
    " \"?tx_drkaddresses_organisationplugin%5Bcontroller%5D=Organisation&tx_drkaddresses_organisationplugin%5Bsection%5D=P&cHash=fa53e744e3b4f3231b6d595e9446f8e4\",\n",
    " \"?tx_drkaddresses_organisationplugin%5Bcontroller%5D=Organisation&tx_drkaddresses_organisationplugin%5Bsection%5D=Q&cHash=80fc318bc167a2be3f9a2b3d14bf5248\",\n",
    " \"?tx_drkaddresses_organisationplugin%5Bcontroller%5D=Organisation&tx_drkaddresses_organisationplugin%5Bsection%5D=R&cHash=4237c1bbb33bea88c2ecdd37f4547c37\",\n",
    " \"?tx_drkaddresses_organisationplugin%5Bcontroller%5D=Organisation&tx_drkaddresses_organisationplugin%5Bsection%5D=S&cHash=e91cb4485920d65324616c5975e1dc54\",\n",
    " \"?tx_drkaddresses_organisationplugin%5Bcontroller%5D=Organisation&tx_drkaddresses_organisationplugin%5Bsection%5D=T&cHash=ca8f9d528b33a8d51a1f46565cb78bf4\",\n",
    " \"?tx_drkaddresses_organisationplugin%5Bcontroller%5D=Organisation&tx_drkaddresses_organisationplugin%5Bsection%5D=U&cHash=0d4eb0d5a26c8a4e147d65166321aead\",\n",
    " \"?tx_drkaddresses_organisationplugin%5Bcontroller%5D=Organisation&tx_drkaddresses_organisationplugin%5Bsection%5D=V&cHash=4fd6a40fd1765ffb1d20d1da9a817938\",\n",
    " \"?tx_drkaddresses_organisationplugin%5Bcontroller%5D=Organisation&tx_drkaddresses_organisationplugin%5Bsection%5D=W&cHash=1beb3bd81558c27f547417f791590aa5\",\n",
    " \"?tx_drkaddresses_organisationplugin%5Bcontroller%5D=Organisation&tx_drkaddresses_organisationplugin%5Bsection%5D=X&cHash=438b44e08fd3b9df09ba3266dc6f387f\",\n",
    " \"?tx_drkaddresses_organisationplugin%5Bcontroller%5D=Organisation&tx_drkaddresses_organisationplugin%5Bsection%5D=Y&cHash=151a1416e6eee1bd5559bc463e00499e\",\n",
    " \"?tx_drkaddresses_organisationplugin%5Bcontroller%5D=Organisation&tx_drkaddresses_organisationplugin%5Bsection%5D=Z&cHash=03d92f62a64f74079edc7dc35b1fdd94\"\n",
    "]\n",
    "\n",
    "address_list = []\n",
    "\n",
    "for link in letter_links:\n",
    "    resp = r.get(f\"{letter_url}{link}\")\n",
    "    soup = BeautifulSoup(resp.content, 'html.parser')\n",
    "\n",
    "    table = soup.find(\"table\", class_='c-addresses__table')\n",
    "    t_rows = table.find_all('tr')\n",
    "\n",
    "    for row in t_rows:\n",
    "        row_el = row.find('td', class_='c-addresses__tableitem--equal')\n",
    "        if row_el:\n",
    "            time.sleep(1)\n",
    "            print(\"slept a bit\")\n",
    "            url_address = row_el.find('a')[\"href\"]\n",
    "            city = row_el.find('a').string\n",
    "            info_address = dict()\n",
    "            resp = r.get(f\"{base_url}{url_address}\")\n",
    "            soup = BeautifulSoup(resp.content, 'html.parser')\n",
    "            info_list = soup.find(\"ul\", class_='c-addresses--general').find_all('li')\n",
    "            info_all = []\n",
    "            for i, info in enumerate(info_list):\n",
    "                info_el = \"\"\n",
    "                for el in info.find_all('span'):\n",
    "                    if el.has_attr(\"itemprop\"):\n",
    "                        info_address[el['itemprop']] = el.string\n",
    "        else: \n",
    "            continue\n",
    "        address_list.append(info_address)"
   ]
  },
  {
   "cell_type": "code",
   "execution_count": 38,
   "metadata": {},
   "outputs": [
    {
     "data": {
      "text/plain": [
       "441"
      ]
     },
     "execution_count": 38,
     "metadata": {},
     "output_type": "execute_result"
    }
   ],
   "source": [
    "len(address_list)"
   ]
  },
  {
   "cell_type": "code",
   "execution_count": 39,
   "metadata": {},
   "outputs": [],
   "source": [
    "import pandas as pd"
   ]
  },
  {
   "cell_type": "code",
   "execution_count": 41,
   "metadata": {},
   "outputs": [],
   "source": [
    "df = pd.DataFrame(address_list)"
   ]
  },
  {
   "cell_type": "code",
   "execution_count": 42,
   "metadata": {},
   "outputs": [],
   "source": [
    "df.to_csv(\"Kreiver.csv\")"
   ]
  }
 ],
 "metadata": {
  "kernelspec": {
   "display_name": "Python 3",
   "language": "python",
   "name": "python3"
  },
  "language_info": {
   "codemirror_mode": {
    "name": "ipython",
    "version": 3
   },
   "file_extension": ".py",
   "mimetype": "text/x-python",
   "name": "python",
   "nbconvert_exporter": "python",
   "pygments_lexer": "ipython3",
   "version": "3.7.6"
  }
 },
 "nbformat": 4,
 "nbformat_minor": 4
}
