{
 "cells": [
  {
   "cell_type": "code",
   "execution_count": 1,
   "metadata": {},
   "outputs": [],
   "source": [
    "import pandas as pd \n",
    "import requests as r"
   ]
  },
  {
   "cell_type": "code",
   "execution_count": 3,
   "metadata": {},
   "outputs": [],
   "source": [
    "resp = r.get(\"https://app.microacquire.com/marketplace\")"
   ]
  },
  {
   "cell_type": "code",
   "execution_count": 7,
   "metadata": {},
   "outputs": [],
   "source": [
    "cookies = {\n",
    "    '__stripe_mid': '7090a133-3d60-4f2d-9db2-2fe3020051d549ad8c',\n",
    "    '__stripe_sid': '346733f3-99d4-4f64-b068-3a45b228f49e30fdf5',\n",
    "}\n",
    "\n",
    "headers = {\n",
    "    'User-Agent': 'Mozilla/5.0 (Macintosh; Intel Mac OS X 10.15; rv:103.0) Gecko/20100101 Firefox/103.0',\n",
    "    'Accept': 'text/html,application/xhtml+xml,application/xml;q=0.9,image/avif,image/webp,*/*;q=0.8',\n",
    "    'Accept-Language': 'it-IT,it;q=0.8,en-US;q=0.5,en;q=0.3',\n",
    "    # 'Accept-Encoding': 'gzip, deflate, br',\n",
    "    'Alt-Used': 'app.microacquire.com',\n",
    "    'Connection': 'keep-alive',\n",
    "    # Requests sorts cookies= alphabetically\n",
    "    # 'Cookie': '__stripe_mid=7090a133-3d60-4f2d-9db2-2fe3020051d549ad8c; __stripe_sid=346733f3-99d4-4f64-b068-3a45b228f49e30fdf5',\n",
    "    'Upgrade-Insecure-Requests': '1',\n",
    "    'Sec-Fetch-Dest': 'document',\n",
    "    'Sec-Fetch-Mode': 'navigate',\n",
    "    'Sec-Fetch-Site': 'cross-site',\n",
    "    'If-Modified-Since': 'Tue, 13 Sep 2022 15:10:48 GMT',\n",
    "    'If-None-Match': '\"4063cafed141d7045c01bb6bf92eb283337bcfb24471904f3fd5b4de44cc27b1-br\"',\n",
    "    # Requests doesn't support trailers\n",
    "    # 'TE': 'trailers',\n",
    "}\n",
    "\n",
    "response = r.get('https://app.microacquire.com/marketplace', cookies=cookies, headers=headers)"
   ]
  },
  {
   "cell_type": "code",
   "execution_count": 10,
   "metadata": {},
   "outputs": [],
   "source": [
    "import requests\n",
    "\n",
    "cookies = {\n",
    "    '__stripe_mid': '7090a133-3d60-4f2d-9db2-2fe3020051d549ad8c',\n",
    "    '__stripe_sid': '346733f3-99d4-4f64-b068-3a45b228f49e30fdf5',\n",
    "}\n",
    "\n",
    "headers = {\n",
    "    'User-Agent': 'Mozilla/5.0 (Macintosh; Intel Mac OS X 10.15; rv:103.0) Gecko/20100101 Firefox/103.0',\n",
    "    'Accept': 'text/html,application/xhtml+xml,application/xml;q=0.9,image/avif,image/webp,*/*;q=0.8',\n",
    "    'Accept-Language': 'it-IT,it;q=0.8,en-US;q=0.5,en;q=0.3',\n",
    "    # 'Accept-Encoding': 'gzip, deflate, br',\n",
    "    'Alt-Used': 'app.microacquire.com',\n",
    "    'Connection': 'keep-alive',\n",
    "    # Requests sorts cookies= alphabetically\n",
    "    # 'Cookie': '__stripe_mid=7090a133-3d60-4f2d-9db2-2fe3020051d549ad8c; __stripe_sid=346733f3-99d4-4f64-b068-3a45b228f49e30fdf5',\n",
    "    'Upgrade-Insecure-Requests': '1',\n",
    "    'Sec-Fetch-Dest': 'document',\n",
    "    'Sec-Fetch-Mode': 'navigate',\n",
    "    'Sec-Fetch-Site': 'cross-site',\n",
    "    'If-Modified-Since': 'Tue, 13 Sep 2022 15:10:48 GMT',\n",
    "    'If-None-Match': '\"4063cafed141d7045c01bb6bf92eb283337bcfb24471904f3fd5b4de44cc27b1-br\"',\n",
    "    # Requests doesn't support trailers\n",
    "    # 'TE': 'trailers',\n",
    "}\n",
    "\n",
    "response = requests.get('https://app.microacquire.com/startup/o6P2NLdoz6SOqBTVlREkDHbl1QW2/7o60tmciqUOAYcayONJG', cookies=cookies, headers=headers)"
   ]
  },
  {
   "cell_type": "code",
   "execution_count": 11,
   "metadata": {},
   "outputs": [
    {
     "data": {
      "text/plain": [
       "b'<!DOCTYPE html>\\n<html lang=en>\\n<head>\\n<meta charset=utf-8>\\n<meta http-equiv=X-UA-Compatible content=\"IE=edge\">\\n<meta name=viewport content=\"width=device-width,initial-scale=1,user-scalable=no,shrink-to-fit=no\">\\n<link rel=\"shortcut icon\" type=\"\" size=\"\" href=/assets/img/favicon.873c75.ico>\\n<link rel=apple-touch-icon type=\"\" size=180x180 href=/assets/img/apple-touch-icon.5cf5ac.png>\\n<link rel=icon type=image/png size=192x192 href=/assets/img/android-chrome-192x192.f4283c.png>\\n<link rel=icon type=image/png size=512x512 href=/assets/img/android-chrome-512x512.abfde3.png>\\n<link rel=icon type=image/png size=32x32 href=/assets/img/favicon-32x32.2803d9.png>\\n<link rel=icon type=image/png size=16x16 href=/assets/img/favicon-16x16.1b4454.png>\\n<meta name=msapplication-TileColor content=#3E50F7>\\n<meta name=theme-color content=#ffffff>\\n<link href=\"https://fonts.googleapis.com/css?family=Roboto:300,300i,400,400i,500,500i,700,900&display=swap\" rel=stylesheet>\\n<link href=\"https://fonts.googleapis.com/css?family=Open+Sans:300,300i,400,400i,600,600i,700,700i,800,800i&display=swap\" rel=stylesheet>\\n<script>!function(e,t,a,n,g){e[n]=e[n]||[],e[n].push({\"gtm.start\":(new Date).getTime(),event:\"gtm.js\"});var m=t.getElementsByTagName(a)[0],r=t.createElement(a);r.async=!0,r.src=\"https://www.googletagmanager.com/gtm.js?id=GTM-PWTLTGV\",m.parentNode.insertBefore(r,m)}(window,document,\"script\",\"dataLayer\")</script>\\n<script>!function(e,t,n,c,o,a,f){e.fbq||(o=e.fbq=function(){o.callMethod?o.callMethod.apply(o,arguments):o.queue.push(arguments)},e._fbq||(e._fbq=o),o.push=o,o.loaded=!0,o.version=\"2.0\",o.queue=[],(a=t.createElement(n)).async=!0,a.src=\"https://connect.facebook.net/en_US/fbevents.js\",(f=t.getElementsByTagName(n)[0]).parentNode.insertBefore(a,f))}(window,document,\"script\"),fbq(\"init\",\"664023900970575\"),fbq(\"track\",\"PageView\")</script>\\n<noscript>\\n<img height=1 width=1 src=\"https://www.facebook.com/tr?id=664023900970575&ev=PageView&noscript=1\">\\n</noscript>\\n<script defer=defer src=/runtime~main.b5c61d.js></script><script defer=defer src=/styles.efc81b.js></script><script defer=defer src=/1992.a5341e.js></script><script defer=defer src=/6139.d6e643.js></script><script defer=defer src=/511.dd9bb2.js></script><script defer=defer src=/8875.ed7fec.js></script><script defer=defer src=/8367.35d4f9.js></script><script defer=defer src=/9829.5a9bb3.js></script><script defer=defer src=/672.749d36.js></script><script defer=defer src=/5918.d50413.js></script><script defer=defer src=/9804.62405c.js></script><script defer=defer src=/262.7044a0.js></script><script defer=defer src=/5174.4155c6.js></script><script defer=defer src=/7821.c2e33b.js></script><script defer=defer src=/912.416645.js></script><script defer=defer src=/9971.3da150.js></script><script defer=defer src=/8390.f9220b.js></script><script defer=defer src=/349.7ff7a5.js></script><script defer=defer src=/664.d61309.js></script><script defer=defer src=/5414.b1a81e.js></script><script defer=defer src=/888.2f5182.js></script><script defer=defer src=/7707.e787a4.js></script><script defer=defer src=/3484.fd309c.js></script><script defer=defer src=/446.3592e8.js></script><script defer=defer src=/1751.39c498.js></script><script defer=defer src=/884.de64ad.js></script><script defer=defer src=/7171.5ab945.js></script><script defer=defer src=/1819.f5de01.js></script><script defer=defer src=/9151.86d098.js></script><script defer=defer src=/7784.f5ec63.js></script><script defer=defer src=/1239.40b4eb.js></script><script defer=defer src=/1384.5c1672.js></script><script defer=defer src=/6731.beefca.js></script><script defer=defer src=/6189.88159d.js></script><script defer=defer src=/4228.519fc8.js></script><script defer=defer src=/2151.ebda93.js></script><script defer=defer src=/8594.b1f8c6.js></script><script defer=defer src=/8535.6e620c.js></script><script defer=defer src=/7799.a6d8b6.js></script><script defer=defer src=/6885.973a5b.js></script><script defer=defer src=/9177.41e1fb.js></script><script defer=defer src=/main-9a8b795a.3b7c44.js></script><script defer=defer src=/main-743b5ef9.e397d5.js></script><script defer=defer src=/main-aede1861.f138a3.js></script><script defer=defer src=/main-8c6c39d6.1e0560.js></script><script defer=defer src=/main-b308cbaf.e2cc78.js></script><script defer=defer src=/main-f4988fac.d406ff.js></script><script defer=defer src=/main-e6266db0.c8e490.js></script><script defer=defer src=/main-78ba660c.285b4e.js></script><script defer=defer src=/main-8f21d56f.db5d28.js></script><script defer=defer src=/main-592e47b8.0871c9.js></script><script defer=defer src=/main-78fd58b3.9bf0a3.js></script><script defer=defer src=/main-2187c21c.b4dce7.js></script><script defer=defer src=/main-1040bad5.79393b.js></script><script defer=defer src=/main-66b77520.42f683.js></script><link href=/styles.1e790e.css rel=stylesheet><link href=/main-b308cbaf.750464.css rel=stylesheet><link href=/main-e6266db0.2207db.css rel=stylesheet></head>\\n<body>\\n<div id=root></div>\\n<noscript>\\n<iframe src=\"https://www.googletagmanager.com/ns.html?id=GTM-PWTLTGV\" height=0 width=0 style=display:none;visibility:hidden></iframe>\\n</noscript>\\n</body>\\n</html>\\n'"
      ]
     },
     "execution_count": 11,
     "metadata": {},
     "output_type": "execute_result"
    }
   ],
   "source": [
    "response.content"
   ]
  },
  {
   "cell_type": "code",
   "execution_count": null,
   "metadata": {},
   "outputs": [],
   "source": []
  }
 ],
 "metadata": {
  "kernelspec": {
   "display_name": "Python 3",
   "language": "python",
   "name": "python3"
  },
  "language_info": {
   "codemirror_mode": {
    "name": "ipython",
    "version": 3
   },
   "file_extension": ".py",
   "mimetype": "text/x-python",
   "name": "python",
   "nbconvert_exporter": "python",
   "pygments_lexer": "ipython3",
   "version": "3.7.6"
  }
 },
 "nbformat": 4,
 "nbformat_minor": 4
}
